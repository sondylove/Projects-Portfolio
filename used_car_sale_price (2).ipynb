{
 "cells": [
  {
   "cell_type": "markdown",
   "id": "08d04d6d",
   "metadata": {},
   "source": [
    "You have been employed as a Data Scientist by a consultancy firm. The firm has a client who is a used car dealer. They have a special feature on Ford cars and they want your firm to design a model that can predict the optimum quotation price for the cars in their lot. They provide you with sales data for the past few years. The dataset contains different features of the cars and the price they were sold at.\n",
    "The tasks assigned to you are as follows.\n",
    "\n",
    "1- There might be a few duplicate entries and a few missing values in the dataset. Data cleaning will be a part of the assignment.\n",
    "2- You have to perform exploratory data analysis to draw keen insights on the data and determine the effect of different features on the price. Some specific requests by the client include:\n",
    "a. Identify number of sales for each fuel type\n",
    "b. Identify which transmission type has more price outliers\n",
    "3- Compare the models with linear, polynomial and ridge regressions on single and multiple variables to find the best performing model\n",
    "4- Perform a Grid Search on the Ridge regression model to identify the optimum hyperparameter for the model for best performance."
   ]
  },
  {
   "cell_type": "markdown",
   "id": "b8bd2aaa",
   "metadata": {},
   "source": [
    "## Import Required Libraries"
   ]
  },
  {
   "cell_type": "code",
   "execution_count": null,
   "id": "dbb9992e",
   "metadata": {},
   "outputs": [],
   "source": [
    "%pip install seaborn\n",
    "%pip install pandas\n",
    "import pandas as pd\n",
    "import numpy as np\n",
    "import matplotlib.pyplot as plt\n",
    "%matplotlib inline"
   ]
  },
  {
   "cell_type": "markdown",
   "id": "948b42b0",
   "metadata": {},
   "source": [
    "## Read The Given Data"
   ]
  },
  {
   "cell_type": "code",
   "execution_count": 3,
   "id": "92e9066d",
   "metadata": {},
   "outputs": [
    {
     "name": "stdout",
     "output_type": "stream",
     "text": [
      "     model  year transmission  mileage fuelType    tax   mpg  engineSize  \\\n",
      "0   Fiesta  2017    Automatic    15944   Petrol  150.0  57.7         1.0   \n",
      "1    Focus  2018       Manual     9083   Petrol  150.0  57.7         1.0   \n",
      "2    Focus  2017       Manual    12456   Petrol  150.0  57.7         1.0   \n",
      "3   Fiesta  2019       Manual    10460   Petrol  145.0  40.3         1.5   \n",
      "4   Fiesta  2019    Automatic     1482   Petrol  145.0  48.7         1.0   \n",
      "5   Fiesta  2015       Manual    35432   Petrol  145.0  47.9         1.6   \n",
      "6     Puma  2019       Manual     2029   Petrol  145.0  50.4         1.0   \n",
      "7   Fiesta  2017       Manual    13054   Petrol  145.0  54.3         1.2   \n",
      "8     Kuga  2019    Automatic     6894   Diesel  145.0  42.2         2.0   \n",
      "9    Focus  2018       Manual    48141   Petrol  145.0  61.4         1.0   \n",
      "\n",
      "   price  \n",
      "0  12000  \n",
      "1  14000  \n",
      "2  13000  \n",
      "3  17500  \n",
      "4  16500  \n",
      "5  10500  \n",
      "6  22500  \n",
      "7   9000  \n",
      "8  25500  \n",
      "9  10000  \n"
     ]
    }
   ],
   "source": [
    "df = pd.read_csv('used_car_price.csv')\n",
    "print(df.head(10))"
   ]
  },
  {
   "cell_type": "markdown",
   "id": "18dc2b35",
   "metadata": {},
   "source": [
    "## Data Preparation and Cleaning"
   ]
  },
  {
   "cell_type": "code",
   "execution_count": 4,
   "id": "30368911",
   "metadata": {},
   "outputs": [
    {
     "data": {
      "text/plain": [
       "model            object\n",
       "year              int64\n",
       "transmission     object\n",
       "mileage           int64\n",
       "fuelType         object\n",
       "tax             float64\n",
       "mpg             float64\n",
       "engineSize      float64\n",
       "price             int64\n",
       "dtype: object"
      ]
     },
     "execution_count": 4,
     "metadata": {},
     "output_type": "execute_result"
    }
   ],
   "source": [
    "df.dtypes"
   ]
  },
  {
   "cell_type": "code",
   "execution_count": 5,
   "id": "835c395b",
   "metadata": {},
   "outputs": [
    {
     "name": "stdout",
     "output_type": "stream",
     "text": [
      "<class 'pandas.core.frame.DataFrame'>\n",
      "RangeIndex: 17966 entries, 0 to 17965\n",
      "Data columns (total 9 columns):\n",
      " #   Column        Non-Null Count  Dtype  \n",
      "---  ------        --------------  -----  \n",
      " 0   model         17966 non-null  object \n",
      " 1   year          17966 non-null  int64  \n",
      " 2   transmission  17966 non-null  object \n",
      " 3   mileage       17966 non-null  int64  \n",
      " 4   fuelType      17966 non-null  object \n",
      " 5   tax           17963 non-null  float64\n",
      " 6   mpg           17966 non-null  float64\n",
      " 7   engineSize    17966 non-null  float64\n",
      " 8   price         17966 non-null  int64  \n",
      "dtypes: float64(3), int64(3), object(3)\n",
      "memory usage: 1.2+ MB\n"
     ]
    }
   ],
   "source": [
    "df.info()"
   ]
  },
  {
   "cell_type": "code",
   "execution_count": 6,
   "id": "fcd4735c",
   "metadata": {},
   "outputs": [
    {
     "name": "stdout",
     "output_type": "stream",
     "text": [
      "<class 'pandas.core.frame.DataFrame'>\n",
      "Int64Index: 17812 entries, 0 to 17965\n",
      "Data columns (total 9 columns):\n",
      " #   Column        Non-Null Count  Dtype  \n",
      "---  ------        --------------  -----  \n",
      " 0   model         17812 non-null  object \n",
      " 1   year          17812 non-null  int64  \n",
      " 2   transmission  17812 non-null  object \n",
      " 3   mileage       17812 non-null  int64  \n",
      " 4   fuelType      17812 non-null  object \n",
      " 5   tax           17812 non-null  float64\n",
      " 6   mpg           17812 non-null  float64\n",
      " 7   engineSize    17812 non-null  float64\n",
      " 8   price         17812 non-null  int64  \n",
      "dtypes: float64(3), int64(3), object(3)\n",
      "memory usage: 1.4+ MB\n",
      "None\n"
     ]
    }
   ],
   "source": [
    "# The attribute 'tax' has three missing values\n",
    "avg_tax = df['tax'].mean()\n",
    "df['tax'].fillna(avg_tax, inplace=True)\n",
    "df.drop_duplicates(inplace=True)\n",
    "print(df.info())"
   ]
  },
  {
   "cell_type": "markdown",
   "id": "99c90dab",
   "metadata": {},
   "source": [
    "## Data Insights and Visualization"
   ]
  },
  {
   "cell_type": "code",
   "execution_count": 7,
   "id": "31d40634",
   "metadata": {},
   "outputs": [
    {
     "name": "stdout",
     "output_type": "stream",
     "text": [
      "year          0.635715\n",
      "mileage       0.530483\n",
      "engineSize    0.411451\n",
      "tax           0.405970\n",
      "mpg           0.346263\n",
      "Name: price, dtype: float64\n"
     ]
    }
   ],
   "source": [
    "# Display top 5 attributes with highest correlation with the target attribute 'price'\n",
    "corr_matrix = df.corr()\n",
    "corr_price = corr_matrix['price'].abs().sort_values(ascending=False)\n",
    "top5_corr = corr_price[1:6]\n",
    "print(top5_corr)"
   ]
  },
  {
   "cell_type": "code",
   "execution_count": 8,
   "id": "f7b2f75f",
   "metadata": {},
   "outputs": [
    {
     "data": {
      "text/plain": [
       "Petrol      12081\n",
       "Diesel       5706\n",
       "Hybrid         22\n",
       "Electric        2\n",
       "Other           1\n",
       "Name: fuelType, dtype: int64"
      ]
     },
     "execution_count": 8,
     "metadata": {},
     "output_type": "execute_result"
    }
   ],
   "source": [
    "# Count the number of cars under each unique value of the 'fuelType' attribute\n",
    "df[\"fuelType\"].value_counts()"
   ]
  },
  {
   "cell_type": "code",
   "execution_count": 9,
   "id": "3f328a41",
   "metadata": {},
   "outputs": [
    {
     "data": {
      "image/png": "[encoded data removed]",
      "text/plain": [
       "<Figure size 640x480 with 1 Axes>"
      ]
     },
     "metadata": {},
     "output_type": "display_data"
    }
   ],
   "source": [
    "# Boxplot to determine the car types with the most price outliers\n",
    "import seaborn as sns\n",
    "sns.boxplot(data=df, x='transmission', y='price')\n",
    "plt.xlabel('transmission')\n",
    "plt.ylabel('price')\n",
    "plt.show()"
   ]
  },
  {
   "cell_type": "code",
   "execution_count": null,
   "id": "3488697e",
   "metadata": {},
   "outputs": [],
   "source": [
    "# In the above graph, the Manual transmission type displayed the most price outliers"
   ]
  },
  {
   "cell_type": "code",
   "execution_count": 26,
   "id": "541b5603",
   "metadata": {},
   "outputs": [
    {
     "data": {
      "image/png": "[encoded data removed]",
      "text/plain": [
       "<Figure size 640x480 with 1 Axes>"
      ]
     },
     "metadata": {},
     "output_type": "display_data"
    }
   ],
   "source": [
    "# Regression plot between The attribute 'mpg' and the target attribute 'price'\n",
    "sns.regplot(data=df, x='mpg', y='price')\n",
    "plt.xlabel('mpg')\n",
    "plt.ylabel('price')\n",
    "plt.show()"
   ]
  },
  {
   "cell_type": "markdown",
   "id": "0aee4c7b",
   "metadata": {},
   "source": [
    "## Model Development and Evaluation"
   ]
  },
  {
   "cell_type": "code",
   "execution_count": 10,
   "id": "a820192f",
   "metadata": {},
   "outputs": [
    {
     "name": "stdout",
     "output_type": "stream",
     "text": [
      "Mean Squared Error: 19741690.80944619\n",
      "Coefficient of Determination: 0.11989802249624182\n"
     ]
    }
   ],
   "source": [
    "# Simple Linear Regression model to predict 'price' using the attribute 'mpg'\n",
    "from sklearn.linear_model import LinearRegression\n",
    "from sklearn.metrics import mean_squared_error, r2_score\n",
    "\n",
    "X = df[[\"mpg\"]]\n",
    "y = df[\"price\"]\n",
    "\n",
    "model = LinearRegression()\n",
    "model.fit(X,y)\n",
    "y_pred = model.predict(X)\n",
    "\n",
    "mse = mean_squared_error(y, y_pred)\n",
    "r2 = r2_score(y, y_pred)\n",
    "\n",
    "print(\"Mean Squared Error:\", mse)\n",
    "print(\"Coefficient of Determination:\", r2)"
   ]
  },
  {
   "cell_type": "code",
   "execution_count": 11,
   "id": "c00abdff",
   "metadata": {},
   "outputs": [
    {
     "name": "stdout",
     "output_type": "stream",
     "text": [
      "Mean Squared Error(MSE): 6134065.224381712\n",
      "Coefficient of Determination(R^2): 0.7265379654547013\n"
     ]
    }
   ],
   "source": [
    "# Multiple Linear Regression model to predict 'price' using a specific set of attributes\n",
    "X = df[['year','mileage','engineSize','tax','mpg']]\n",
    "y = df['price']\n",
    "\n",
    "lr = LinearRegression()\n",
    "lr.fit(X,y)\n",
    "\n",
    "y_pred = lr.predict(X)\n",
    "\n",
    "mse = mean_squared_error(y, y_pred)\n",
    "r2 = r2_score(y, y_pred)\n",
    "\n",
    "print(\"Mean Squared Error(MSE):\", mse)\n",
    "print(\"Coefficient of Determination(R^2):\", r2)"
   ]
  },
  {
   "cell_type": "code",
   "execution_count": 20,
   "id": "2e4b5899",
   "metadata": {},
   "outputs": [
    {
     "name": "stdout",
     "output_type": "stream",
     "text": [
      "Mean Squared Error(MSE): 5234038.065462741\n",
      "Coefficient of Determination(R^2): 0.7666619695239302\n"
     ]
    }
   ],
   "source": [
    "# Pipeline object model that uses standard scalar, polynomial features, and a linear regression model\n",
    "from sklearn.model_selection import train_test_split\n",
    "from sklearn.preprocessing import StandardScaler, PolynomialFeatures\n",
    "from sklearn.pipeline import Pipeline\n",
    "from sklearn.linear_model import LinearRegression\n",
    "from sklearn.metrics import mean_squared_error, r2_score\n",
    "\n",
    "X = df[['year','mileage','engineSize','tax','mpg']].astype('float')\n",
    "y = df[\"price\"]\n",
    "\n",
    "input = [('scale',StandardScaler()), ('polynomial',PolynomialFeatures(degree=2)), ('model',LinearRegression())]\n",
    "pipe = Pipeline(input)\n",
    "pipe.fit(X,y)\n",
    "\n",
    "y_pred = pipe.predict(X)\n",
    "\n",
    "mse = mean_squared_error(y,y_pred)\n",
    "r2 = r2_score(y,y_pred)\n",
    "\n",
    "print(\"Mean Squared Error(MSE):\", mse)\n",
    "print(\"Coefficient of Determination(R^2):\", r2)"
   ]
  },
  {
   "cell_type": "code",
   "execution_count": 21,
   "id": "ae437da6",
   "metadata": {},
   "outputs": [
    {
     "name": "stdout",
     "output_type": "stream",
     "text": [
      "Mean Squared Error(MSE): 6912725.801055018\n",
      "Coefficient of Determination(R^2): 0.6917134446113096\n"
     ]
    }
   ],
   "source": [
    "# Ridge regression object model with a regularization parameter of 0.1\n",
    "\n",
    "from sklearn.linear_model import Ridge\n",
    "\n",
    "X = df[['year','mileage','engineSize','tax','mpg']]\n",
    "y = df['price']\n",
    "\n",
    "X_train,X_test,y_train,y_test = train_test_split(X, y, test_size=0.2, random_state=42)\n",
    "\n",
    "ridge_model = Ridge(alpha=0.1)\n",
    "ridge_model.fit(X_train, y_train)\n",
    "\n",
    "y_pred = ridge_model.predict(X_test)\n",
    "\n",
    "mse = mean_squared_error(y_test,y_pred)\n",
    "r2 = r2_score(y_test,y_pred)\n",
    "\n",
    "print(\"Mean Squared Error(MSE):\", mse)\n",
    "print(\"Coefficient of Determination(R^2):\", r2)"
   ]
  },
  {
   "cell_type": "code",
   "execution_count": 22,
   "id": "7d8f976e",
   "metadata": {},
   "outputs": [
    {
     "name": "stdout",
     "output_type": "stream",
     "text": [
      "Mean Squared Error(MSE): 7326174.877587367\n",
      "Coefficient of Determination(R^2): 0.6732748727221513\n"
     ]
    },
    {
     "name": "stderr",
     "output_type": "stream",
     "text": [
      "C:\\Users\\yourb\\anaconda3\\mylessons\\lib\\site-packages\\sklearn\\linear_model\\_ridge.py:157: LinAlgWarning: Ill-conditioned matrix (rcond=2.17676e-24): result may not be accurate.\n",
      "  return linalg.solve(A, Xy, sym_pos=True, overwrite_a=True).T\n"
     ]
    }
   ],
   "source": [
    "# Ridge regression object model using a polynomial transformed training data\n",
    "X = df[[\"year\",\"mileage\",\"engineSize\",\"tax\",\"mpg\"]]\n",
    "y = df[\"price\"]\n",
    "\n",
    "X_train,X_test,y_train,y_test = train_test_split(X, y, test_size=0.20, random_state=42)\n",
    "\n",
    "poly = PolynomialFeatures(degree=2)\n",
    "X_train_poly = poly.fit_transform(X_train)\n",
    "X_test_poly = poly.transform(X_test)\n",
    "\n",
    "ridge = Ridge(alpha=0.1)\n",
    "ridge.fit(X_train_poly,y_train)\n",
    "\n",
    "y_pred = ridge.predict(X_test_poly)\n",
    "\n",
    "mse = mean_squared_error(y_test,y_pred)\n",
    "r2 = r2_score(y_test,y_pred)\n",
    "\n",
    "print(\"Mean Squared Error(MSE):\", mse)\n",
    "print(\"Coefficient of Determination(R^2):\", r2)"
   ]
  },
  {
   "cell_type": "code",
   "execution_count": 25,
   "id": "77ece446",
   "metadata": {},
   "outputs": [
    {
     "name": "stdout",
     "output_type": "stream",
     "text": [
      "Mean Squared Error(MSE): 13840985.984939095\n",
      "Coefficient of Determination(R^2): 0.382734102974432\n"
     ]
    },
    {
     "name": "stderr",
     "output_type": "stream",
     "text": [
      "C:\\Users\\yourb\\anaconda3\\mylessons\\lib\\site-packages\\sklearn\\linear_model\\_ridge.py:157: LinAlgWarning: Ill-conditioned matrix (rcond=2.93807e-25): result may not be accurate.\n",
      "  return linalg.solve(A, Xy, sym_pos=True, overwrite_a=True).T\n",
      "C:\\Users\\yourb\\anaconda3\\mylessons\\lib\\site-packages\\sklearn\\linear_model\\_ridge.py:157: LinAlgWarning: Ill-conditioned matrix (rcond=2.88233e-25): result may not be accurate.\n",
      "  return linalg.solve(A, Xy, sym_pos=True, overwrite_a=True).T\n",
      "C:\\Users\\yourb\\anaconda3\\mylessons\\lib\\site-packages\\sklearn\\linear_model\\_ridge.py:157: LinAlgWarning: Ill-conditioned matrix (rcond=3.01744e-25): result may not be accurate.\n",
      "  return linalg.solve(A, Xy, sym_pos=True, overwrite_a=True).T\n",
      "C:\\Users\\yourb\\anaconda3\\mylessons\\lib\\site-packages\\sklearn\\linear_model\\_ridge.py:157: LinAlgWarning: Ill-conditioned matrix (rcond=2.78199e-25): result may not be accurate.\n",
      "  return linalg.solve(A, Xy, sym_pos=True, overwrite_a=True).T\n",
      "C:\\Users\\yourb\\anaconda3\\mylessons\\lib\\site-packages\\sklearn\\linear_model\\_ridge.py:157: LinAlgWarning: Ill-conditioned matrix (rcond=2.93807e-24): result may not be accurate.\n",
      "  return linalg.solve(A, Xy, sym_pos=True, overwrite_a=True).T\n",
      "C:\\Users\\yourb\\anaconda3\\mylessons\\lib\\site-packages\\sklearn\\linear_model\\_ridge.py:157: LinAlgWarning: Ill-conditioned matrix (rcond=2.88233e-24): result may not be accurate.\n",
      "  return linalg.solve(A, Xy, sym_pos=True, overwrite_a=True).T\n",
      "C:\\Users\\yourb\\anaconda3\\mylessons\\lib\\site-packages\\sklearn\\linear_model\\_ridge.py:157: LinAlgWarning: Ill-conditioned matrix (rcond=3.01744e-24): result may not be accurate.\n",
      "  return linalg.solve(A, Xy, sym_pos=True, overwrite_a=True).T\n",
      "C:\\Users\\yourb\\anaconda3\\mylessons\\lib\\site-packages\\sklearn\\linear_model\\_ridge.py:157: LinAlgWarning: Ill-conditioned matrix (rcond=2.78199e-24): result may not be accurate.\n",
      "  return linalg.solve(A, Xy, sym_pos=True, overwrite_a=True).T\n",
      "C:\\Users\\yourb\\anaconda3\\mylessons\\lib\\site-packages\\sklearn\\linear_model\\_ridge.py:157: LinAlgWarning: Ill-conditioned matrix (rcond=2.79036e-22): result may not be accurate.\n",
      "  return linalg.solve(A, Xy, sym_pos=True, overwrite_a=True).T\n",
      "C:\\Users\\yourb\\anaconda3\\mylessons\\lib\\site-packages\\sklearn\\linear_model\\_ridge.py:157: LinAlgWarning: Ill-conditioned matrix (rcond=2.73946e-22): result may not be accurate.\n",
      "  return linalg.solve(A, Xy, sym_pos=True, overwrite_a=True).T\n",
      "C:\\Users\\yourb\\anaconda3\\mylessons\\lib\\site-packages\\sklearn\\linear_model\\_ridge.py:157: LinAlgWarning: Ill-conditioned matrix (rcond=2.87056e-22): result may not be accurate.\n",
      "  return linalg.solve(A, Xy, sym_pos=True, overwrite_a=True).T\n",
      "C:\\Users\\yourb\\anaconda3\\mylessons\\lib\\site-packages\\sklearn\\linear_model\\_ridge.py:157: LinAlgWarning: Ill-conditioned matrix (rcond=2.64735e-22): result may not be accurate.\n",
      "  return linalg.solve(A, Xy, sym_pos=True, overwrite_a=True).T\n",
      "C:\\Users\\yourb\\anaconda3\\mylessons\\lib\\site-packages\\sklearn\\linear_model\\_ridge.py:157: LinAlgWarning: Ill-conditioned matrix (rcond=2.88726e-21): result may not be accurate.\n",
      "  return linalg.solve(A, Xy, sym_pos=True, overwrite_a=True).T\n",
      "C:\\Users\\yourb\\anaconda3\\mylessons\\lib\\site-packages\\sklearn\\linear_model\\_ridge.py:157: LinAlgWarning: Ill-conditioned matrix (rcond=2.83427e-21): result may not be accurate.\n",
      "  return linalg.solve(A, Xy, sym_pos=True, overwrite_a=True).T\n",
      "C:\\Users\\yourb\\anaconda3\\mylessons\\lib\\site-packages\\sklearn\\linear_model\\_ridge.py:157: LinAlgWarning: Ill-conditioned matrix (rcond=2.9672e-21): result may not be accurate.\n",
      "  return linalg.solve(A, Xy, sym_pos=True, overwrite_a=True).T\n",
      "C:\\Users\\yourb\\anaconda3\\mylessons\\lib\\site-packages\\sklearn\\linear_model\\_ridge.py:157: LinAlgWarning: Ill-conditioned matrix (rcond=2.73679e-21): result may not be accurate.\n",
      "  return linalg.solve(A, Xy, sym_pos=True, overwrite_a=True).T\n",
      "C:\\Users\\yourb\\anaconda3\\mylessons\\lib\\site-packages\\sklearn\\linear_model\\_ridge.py:157: LinAlgWarning: Ill-conditioned matrix (rcond=2.17676e-25): result may not be accurate.\n",
      "  return linalg.solve(A, Xy, sym_pos=True, overwrite_a=True).T\n"
     ]
    }
   ],
   "source": [
    "# Grid Search on the ridge regression with 4-fold cross validation\n",
    "from sklearn.model_selection import GridSearchCV\n",
    "from sklearn.preprocessing import PolynomialFeatures\n",
    "X = df[[\"year\",\"mileage\",\"engineSize\",\"tax\",\"mpg\"]]\n",
    "y = df[\"price\"]\n",
    "\n",
    "X_train,X_test,y_train,y_test = train_test_split(X, y, test_size=0.2, random_state=42)\n",
    "\n",
    "poly = PolynomialFeatures(degree=2)\n",
    "X_train_poly = poly.fit_transform(X_train)\n",
    "X_test_poly = poly.transform(X_test)\n",
    "\n",
    "param = {'alpha':[0.01,0.1,10,100]}\n",
    "ridge = Ridge()\n",
    "grid_search = GridSearchCV(ridge, param, cv=4)\n",
    "grid_search.fit(X_train_poly, y_train)\n",
    "\n",
    "y_pred = grid_search.predict(X_test_poly)\n",
    "\n",
    "mse = mean_squared_error(y_test, y_pred)\n",
    "r2 = r2_score(y_test, y_pred)\n",
    "\n",
    "print(\"Mean Squared Error(MSE):\", mse)\n",
    "print(\"Coefficient of Determination(R^2):\", r2)"
   ]
  },
  {
   "cell_type": "code",
   "execution_count": 27,
   "id": "011d3f55",
   "metadata": {},
   "outputs": [],
   "source": [
    "df.to_csv('used_car_sale_price.csv')"
   ]
  },
  {
   "cell_type": "code",
   "execution_count": null,
   "id": "3dbbf2f4",
   "metadata": {},
   "outputs": [],
   "source": []
  }
 ],
 "metadata": {
  "kernelspec": {
   "display_name": "Python 3 (ipykernel)",
   "language": "python",
   "name": "python3"
  },
  "language_info": {
   "codemirror_mode": {
    "name": "ipython",
    "version": 3
   },
   "file_extension": ".py",
   "mimetype": "text/x-python",
   "name": "python",
   "nbconvert_exporter": "python",
   "pygments_lexer": "ipython3",
   "version": "3.9.13"
  }
 },
 "nbformat": 4,
 "nbformat_minor": 5
}
